{
  "nbformat": 4,
  "nbformat_minor": 0,
  "metadata": {
    "colab": {
      "provenance": []
    },
    "kernelspec": {
      "name": "python3",
      "display_name": "Python 3"
    },
    "language_info": {
      "name": "python"
    }
  },
  "cells": [
    {
      "cell_type": "markdown",
      "source": [
        "SQL Basics - Assignment Questions"
      ],
      "metadata": {
        "id": "ekTYjVN3Auie"
      }
    },
    {
      "cell_type": "markdown",
      "source": [
        "1. Create a table called employees with the following structure?\n",
        ": emp_id (integer, should not be NULL and should be a primary key)Q\n",
        ": emp_name (text, should not be NULL)Q\n",
        ": age (integer, should have a check constraint to ensure the age is at least 18)Q\n",
        ": email (text, should be unique for each employee)Q\n",
        ": salary (decimal, with a default value of 30,000).\n",
        "\n",
        "Write the SQL query to create the above table with all constraints"
      ],
      "metadata": {
        "id": "fiBnUeNFA7mf"
      }
    },
    {
      "cell_type": "code",
      "source": [
        "CREATE TABLE employees (\n",
        "    emp_id INT NOT NULL PRIMARY KEY,\n",
        "    emp_name TEXT NOT NULL,\n",
        "    age INT CHECK (age >= 18),\n",
        "    email TEXT UNIQUE,\n",
        "    salary DECIMAL(10,2) DEFAULT 30000\n",
        ");\n"
      ],
      "metadata": {
        "id": "xDcVcbhPE6lw"
      },
      "execution_count": null,
      "outputs": []
    },
    {
      "cell_type": "markdown",
      "source": [
        "2. 2. Explain the purpose of constraints and how they help maintain data integrity in a database. Provide\n",
        "examples of common types of constraints."
      ],
      "metadata": {
        "id": "gSsl-TOLBjFc"
      }
    },
    {
      "cell_type": "code",
      "source": [
        "Purpose of Constraints\n",
        "\n",
        "Ensure Data Accuracy → prevent invalid values (e.g., negative age).\n",
        "\n",
        "Maintain Uniqueness → stop duplicate records where uniqueness is required (e.g., email IDs).\n",
        "\n",
        "Preserve Relationships → enforce valid connections between tables (e.g., foreign keys).\n",
        "\n",
        "Provide Default Values → ensure missing data still has a sensible entry.\n",
        "\n",
        "Improve Reliability → databases can trust their data without constant manual validation."
      ],
      "metadata": {
        "id": "BQ7RC0RCE5cF"
      },
      "execution_count": null,
      "outputs": []
    },
    {
      "cell_type": "markdown",
      "source": [
        "3. Why would you apply the NOT NULL constraint to a column? Can a primary key contain NULL values? Justify\n",
        "your answer."
      ],
      "metadata": {
        "id": "3iHVjyb_CG4k"
      }
    },
    {
      "cell_type": "code",
      "source": [
        "The NOT NULL constraint ensures that a column must always have a value—it cannot be left empty. It is applied when certain information is essential for each record.\n",
        "\n",
        "Example:\n",
        "\n",
        "emp_name TEXT NOT NULL;\n",
        "\n",
        "→ Every employee must have a name. If someone tries to insert a record without emp_name, the database will reject it.\n",
        "\n",
        "Purpose:\n",
        "\n",
        "Guarantees important fields are always filled.\n",
        "\n",
        "Prevents incomplete or meaningless data (e.g., an employee with no ID, name, or date of hire).\n",
        "\n",
        "Helps maintain data accuracy and consistency.\n",
        "\n",
        "Can a Primary Key contain NULL values?\n",
        "\n",
        "No, a primary key cannot contain NULL values.\n",
        "\n",
        "Justification:\n",
        "\n",
        "A primary key uniquely identifies each row in a table.\n",
        "\n",
        "If it allowed NULL, two or more rows could have NULL in the key column, which would break uniqueness because NULL represents an \"unknown\" value.\n",
        "\n",
        "By definition, a primary key is a combination of NOT NULL and UNIQUE.\n",
        "\n",
        "NOT NULL → ensures every record has a valid identifier.\n",
        "\n",
        "UNIQUE → ensures no two records share the same identifier.\n",
        "\n",
        "Example:\n",
        "\n",
        "CREATE TABLE employees ( emp_id INT PRIMARY KEY, emp_name TEXT NOT NULL );\n",
        "\n",
        "Here, emp_id cannot be NULL. Every employee must have a valid ID."
      ],
      "metadata": {
        "id": "_pmljIPRP0JN"
      },
      "execution_count": null,
      "outputs": []
    },
    {
      "cell_type": "markdown",
      "source": [
        "4. Explain the steps and SQL commands used to add or remove constraints on an existing table. Provide an\n",
        "example for both adding and removing a constraint."
      ],
      "metadata": {
        "id": "UqdfJN_0C2Qi"
      }
    },
    {
      "cell_type": "code",
      "source": [
        "Steps to Add or Remove Constraints\n",
        "\n",
        "Adding a Constraint\n",
        "Use the ALTER TABLE statement with ADD CONSTRAINT.\n",
        "\n",
        "You must give a name to the constraint when adding it, so it can be referenced later (especially for removal).\n",
        "\n",
        "Syntax:\n",
        "\n",
        "ALTER TABLE table_name ADD CONSTRAINT constraint_name constraint_type (column_name);\n",
        "\n",
        "Example (Add UNIQUE constraint to email column):\n",
        "\n",
        "ALTER TABLE employees ADD CONSTRAINT unique_email UNIQUE (email);\n",
        "\n",
        "Here:\n",
        "\n",
        "unique_email is the name of the new constraint.\n",
        "\n",
        "Ensures no duplicate emails exist.\n",
        "\n",
        "Removing (Dropping) a Constraint\n",
        "Use the ALTER TABLE statement with DROP CONSTRAINT.\n",
        "\n",
        "The exact syntax depends on the DBMS (PostgreSQL, MySQL, Oracle, SQL Server).\n",
        "\n",
        "PostgreSQL / Oracle / SQL Server Syntax:\n",
        "\n",
        "ALTER TABLE table_name DROP CONSTRAINT constraint_name;\n",
        "\n",
        "MySQL Syntax:\n",
        "\n",
        "For a PRIMARY KEY:\n",
        "\n",
        "ALTER TABLE employees DROP PRIMARY KEY;\n",
        "\n",
        "For a FOREIGN KEY:\n",
        "\n",
        "ALTER TABLE employees DROP FOREIGN KEY fk_name;\n",
        "\n",
        "For a UNIQUE or CHECK constraint:\n",
        "\n",
        "ALTER TABLE employees DROP INDEX unique_email;\n",
        "\n",
        "Example (Drop the UNIQUE constraint on email):\n",
        "\n",
        "ALTER TABLE employees DROP CONSTRAINT unique_email; -- (PostgreSQL / SQL Server)"
      ],
      "metadata": {
        "id": "v2O7Uz2ZQGh6"
      },
      "execution_count": null,
      "outputs": []
    },
    {
      "cell_type": "markdown",
      "source": [
        "5. Explain the consequences of attempting to insert, update, or delete data in a way that violates constraints.\n",
        "Provide an example of an error message that might occur when violating a constraint."
      ],
      "metadata": {
        "id": "a0SLn35RDYMt"
      }
    },
    {
      "cell_type": "code",
      "source": [
        "When an operation breaks a rule enforced by a constraint, the database rejects the operation and throws an error message. This ensures that only valid, consistent data is stored.\n",
        "\n",
        "NOT NULL Violation\n",
        "Issue: Trying to insert NULL into a column defined as NOT NULL.\n",
        "\n",
        "Example:\n",
        "\n",
        "INSERT INTO employees (emp_id, emp_name, age, email) VALUES (1, NULL, 25, 'a@example.com');\n",
        "\n",
        "Result/Error:\n",
        "\n",
        "ERROR: null value in column \"emp_name\" violates not-null constraint\n",
        "\n",
        "PRIMARY KEY Violation\n",
        "Issue: Inserting a duplicate value in the primary key column.\n",
        "\n",
        "Example:\n",
        "\n",
        "INSERT INTO employees (emp_id, emp_name, age, email) VALUES (1, 'John', 30, 'john@example.com');\n",
        "\n",
        "-- Second insert with same emp_id INSERT INTO employees (emp_id, emp_name, age, email) VALUES (1, 'Alice', 28, 'alice@example.com');\n",
        "\n",
        "Result/Error:\n",
        "\n",
        "ERROR: duplicate key value violates unique constraint \"employees_pkey\"\n",
        "\n",
        "UNIQUE Violation\n",
        "Issue: Inserting duplicate values into a column with a UNIQUE constraint.\n",
        "\n",
        "Example:\n",
        "\n",
        "INSERT INTO employees (emp_id, emp_name, age, email) VALUES (2, 'Bob', 29, 'john@example.com'); -- Duplicate email\n",
        "\n",
        "Result/Error:\n",
        "\n",
        "ERROR: duplicate key value violates unique constraint \"unique_email\"\n",
        "\n",
        "CHECK Constraint Violation\n",
        "Issue: Inserting a value that does not satisfy the condition.\n",
        "\n",
        "Example:\n",
        "\n",
        "INSERT INTO employees (emp_id, emp_name, age, email) VALUES (3, 'Charlie', 16, 'charlie@example.com'); -- age < 18\n",
        "\n",
        "Result/Error:\n",
        "\n",
        "ERROR: new row for relation \"employees\" violates check constraint \"check_age\"\n",
        "\n",
        "FOREIGN KEY Violation\n",
        "Issue: Inserting a value in a column that references a non-existing row in another table.\n",
        "\n",
        "Example: If dept_id in employees references departments(dept_id):\n",
        "\n",
        "INSERT INTO employees (emp_id, emp_name, age, email, dept_id) VALUES (4, 'David', 35, 'david@example.com', 999); -- No such department\n",
        "\n",
        "Result/Error:\n",
        "\n",
        "ERROR: insert or update on table \"employees\" violates foreign key constraint \"fk_dept\" DETAIL: Key (dept_id)=(999) is not present in table \"departments\"."
      ],
      "metadata": {
        "id": "iTlEDg3fQOKe"
      },
      "execution_count": null,
      "outputs": []
    },
    {
      "cell_type": "markdown",
      "source": [
        "6. You created a products table without constraints as follows:\n",
        "\n",
        "CREATE TABLE products (\n",
        "\n",
        "    product_id INT,\n",
        "\n",
        "    product_name VARCHAR(50),\n",
        "\n",
        "    price DECIMAL(10, 2));\n",
        "Now, you realise that?\n",
        ": The product_id should be a primary keyQ\n",
        ": The price should have a default value of 50.00"
      ],
      "metadata": {
        "id": "lbSr0qt5Du1C"
      }
    },
    {
      "cell_type": "markdown",
      "source": [
        "SQL Commands"
      ],
      "metadata": {
        "id": "3xgmplyaExuZ"
      }
    },
    {
      "cell_type": "markdown",
      "source": [
        "1-Identify the primary keys and foreign keys in maven movies db. Discuss the differences"
      ],
      "metadata": {
        "id": "8nok0tHbFGDd"
      }
    },
    {
      "cell_type": "code",
      "source": [
        "Primary Keys in Maven Movies DB\n",
        "\n",
        "A primary key (PK) uniquely identifies each row in a table. Examples from Maven Movies DB:\n",
        "\n",
        "actor → actor_id\n",
        "\n",
        "film → film_id\n",
        "\n",
        "customer → customer_id\n",
        "\n",
        "store → store_id\n",
        "\n",
        "staff → staff_id\n",
        "\n",
        "rental → rental_id\n",
        "\n",
        "payment → payment_id\n",
        "\n",
        "category → category_id\n",
        "\n",
        "language → language_id\n",
        "\n",
        "inventory → inventory_id\n",
        "\n",
        "A foreign key (FK) links one table to another by referencing the primary key of the related table. Examples:\n",
        "\n",
        "film → language_id references language(language_id)\n",
        "\n",
        "inventory → film_id references film(film_id)\n",
        "\n",
        "rental → inventory_id references inventory(inventory_id)\n",
        "\n",
        "rental → customer_id references customer(customer_id)\n",
        "\n",
        "rental → staff_id references staff(staff_id)\n",
        "\n",
        "payment → rental_id references rental(rental_id)\n",
        "\n",
        "payment → customer_id references customer(customer_id)\n",
        "\n",
        "payment → staff_id references staff(staff_id)\n",
        "\n",
        "film_category → film_id references film(film_id) and category_id references category(category_id)\n",
        "\n",
        "film_actor → film_id references film(film_id) and actor_id references actor(actor_id)"
      ],
      "metadata": {
        "id": "0STP24SbQnKt"
      },
      "execution_count": null,
      "outputs": []
    },
    {
      "cell_type": "markdown",
      "source": [
        "2- List all details of actors"
      ],
      "metadata": {
        "id": "BaDCvRX8FYqU"
      }
    },
    {
      "cell_type": "code",
      "source": [
        "In the Maven Movies DB, the actor table typically contains the following columns:\n",
        "\n",
        "actor_id → Primary Key\n",
        "\n",
        "first_name → Actor’s first name\n",
        "\n",
        "last_name → Actor’s last name\n",
        "\n",
        "last_update → Timestamp when the record was last updated"
      ],
      "metadata": {
        "id": "KNRp1KvmQg1W"
      },
      "execution_count": null,
      "outputs": []
    },
    {
      "cell_type": "markdown",
      "source": [
        "3 -List all customer information from DB."
      ],
      "metadata": {
        "id": "keMsO7jQFmxu"
      }
    },
    {
      "cell_type": "code",
      "source": [
        "Typically, it includes:\n",
        "\n",
        "customer_id → Primary Key\n",
        "\n",
        "store_id → Store where the customer registered (FK to store)\n",
        "\n",
        "first_name\n",
        "\n",
        "last_name\n",
        "\n",
        "email\n",
        "\n",
        "address_id → FK to address table\n",
        "\n",
        "active → Whether the customer is active (1/0)\n",
        "\n",
        "create_date\n",
        "\n",
        "last_update"
      ],
      "metadata": {
        "id": "WCZLIALkQc40"
      },
      "execution_count": null,
      "outputs": []
    },
    {
      "cell_type": "markdown",
      "source": [
        "4 -List different countries"
      ],
      "metadata": {
        "id": "mmdOabp2FvoU"
      }
    },
    {
      "cell_type": "code",
      "source": [
        "Columns in the country table\n",
        "\n",
        "country_id → Primary Key\n",
        "\n",
        "country → Name of the country\n",
        "\n",
        "last_update → Timestamp of last modification SELECT DISTINCT country FROM country;"
      ],
      "metadata": {
        "id": "_ypyNohTQYpL"
      },
      "execution_count": null,
      "outputs": []
    },
    {
      "cell_type": "markdown",
      "source": [
        "5 -Display all active customers."
      ],
      "metadata": {
        "id": "tpNoXuinGGpo"
      }
    },
    {
      "cell_type": "code",
      "source": [
        "active = 1 → Active customer\n",
        "\n",
        "active = 0 → Inactive customer\n",
        "\n",
        "SELECT * FROM customer WHERE active = 1;"
      ],
      "metadata": {
        "id": "H9PYgYbpQU5u"
      },
      "execution_count": null,
      "outputs": []
    },
    {
      "cell_type": "markdown",
      "source": [
        "6 -List of all rental IDs for customer with ID 1"
      ],
      "metadata": {
        "id": "t8d0QHQ3Gbv5"
      }
    },
    {
      "cell_type": "code",
      "source": [
        "SELECT rental_id\n",
        "FROM rental\n",
        "WHERE customer_id = 1;\n",
        "SELECT rental_id, rental_date\n",
        "FROM rental\n",
        "WHERE customer_id = 1\n",
        "ORDER BY rental_date;\n"
      ],
      "metadata": {
        "id": "9v1GuEApGhdO"
      },
      "execution_count": null,
      "outputs": []
    },
    {
      "cell_type": "markdown",
      "source": [
        "7.  Display all the films whose rental duration is greater than 5.\n"
      ],
      "metadata": {
        "id": "X8ehWBTPGuNa"
      }
    },
    {
      "cell_type": "code",
      "source": [
        "SELECT *\n",
        "FROM film\n",
        "WHERE rental_duration > 5;\n"
      ],
      "metadata": {
        "id": "HyY6TYGPG3ZA"
      },
      "execution_count": null,
      "outputs": []
    },
    {
      "cell_type": "markdown",
      "source": [
        "8 - List the total number of films whose replacement cost is greater than $15 and less than $20."
      ],
      "metadata": {
        "id": "e4PgVIDWHFQi"
      }
    },
    {
      "cell_type": "code",
      "source": [
        "SELECT COUNT(*) AS total_films\n",
        "FROM film\n",
        "WHERE replacement_cost > 15 AND replacement_cost < 20;\n"
      ],
      "metadata": {
        "id": "EL9Yvxq2HPH6"
      },
      "execution_count": null,
      "outputs": []
    },
    {
      "cell_type": "markdown",
      "source": [
        "9 - Display the count of unique first names of actors."
      ],
      "metadata": {
        "id": "1Fe3UJMnHT_k"
      }
    },
    {
      "cell_type": "code",
      "source": [
        "SELECT COUNT(DISTINCT first_name) AS unique_first_names\n",
        "FROM actor;\n"
      ],
      "metadata": {
        "id": "_CDZSsCvHfmH"
      },
      "execution_count": null,
      "outputs": []
    },
    {
      "cell_type": "markdown",
      "source": [
        "10- Display the first 10 records from the customer table ."
      ],
      "metadata": {
        "id": "P5SsvvrVHhfs"
      }
    },
    {
      "cell_type": "code",
      "source": [
        "SELECT *\n",
        "FROM customer\n",
        "LIMIT 10;\n"
      ],
      "metadata": {
        "id": "3dC7osrCHp1h"
      },
      "execution_count": null,
      "outputs": []
    },
    {
      "cell_type": "markdown",
      "source": [
        "11 - Display the first 3 records from the customer table whose first name starts with ‘b’."
      ],
      "metadata": {
        "id": "IFytvPq2HrZa"
      }
    },
    {
      "cell_type": "code",
      "source": [
        "SELECT *\n",
        "FROM customer\n",
        "WHERE first_name LIKE 'b%'\n",
        "LIMIT 3;\n"
      ],
      "metadata": {
        "id": "gOlrsyvQH7RF"
      },
      "execution_count": null,
      "outputs": []
    },
    {
      "cell_type": "markdown",
      "source": [
        "12 -Display the names of the first 5 movies which are rated as ‘G’."
      ],
      "metadata": {
        "id": "FsLacuSFH8kP"
      }
    },
    {
      "cell_type": "code",
      "source": [
        "SELECT title\n",
        "FROM film\n",
        "WHERE rating = 'G'\n",
        "LIMIT 5;\n"
      ],
      "metadata": {
        "id": "UBDke4LjII3M"
      },
      "execution_count": null,
      "outputs": []
    },
    {
      "cell_type": "markdown",
      "source": [
        "13-Find all customers whose first name starts with \"a\"."
      ],
      "metadata": {
        "id": "RReQWc47IJ_k"
      }
    },
    {
      "cell_type": "code",
      "source": [
        "SELECT *\n",
        "FROM customer\n",
        "WHERE first_name LIKE 'a%';\n"
      ],
      "metadata": {
        "id": "oPzpgbc3IOhT"
      },
      "execution_count": null,
      "outputs": []
    },
    {
      "cell_type": "markdown",
      "source": [
        "14- Find all customers whose first name ends with \"a\"."
      ],
      "metadata": {
        "id": "xBujO8QhIXZO"
      }
    },
    {
      "cell_type": "code",
      "source": [
        "SELECT *\n",
        "FROM customer\n",
        "WHERE first_name LIKE '%a';\n"
      ],
      "metadata": {
        "id": "pVtA419pIgKx"
      },
      "execution_count": null,
      "outputs": []
    },
    {
      "cell_type": "markdown",
      "source": [
        "15- Display the list of first 4 cities which start and end with ‘a’ ."
      ],
      "metadata": {
        "id": "pSdDz_svImVj"
      }
    },
    {
      "cell_type": "code",
      "source": [
        "SELECT city\n",
        "FROM city\n",
        "WHERE city LIKE 'a%a'\n",
        "LIMIT 4;\n"
      ],
      "metadata": {
        "id": "X6cu8zl0Iq1g"
      },
      "execution_count": null,
      "outputs": []
    },
    {
      "cell_type": "markdown",
      "source": [
        "16- Find all customers whose first name have \"NI\" in any position."
      ],
      "metadata": {
        "id": "EWXTj1noIv1_"
      }
    },
    {
      "cell_type": "code",
      "source": [
        "SELECT *\n",
        "FROM customer\n",
        "WHERE first_name LIKE '%NI%';\n"
      ],
      "metadata": {
        "id": "ApMLQq_aI0z4"
      },
      "execution_count": null,
      "outputs": []
    },
    {
      "cell_type": "markdown",
      "source": [
        "17- Find all customers whose first name have \"r\" in the second position ."
      ],
      "metadata": {
        "id": "k3c3Sm8sI43c"
      }
    },
    {
      "cell_type": "code",
      "source": [
        "SELECT *\n",
        "FROM customer\n",
        "WHERE first_name LIKE '_r%';\n"
      ],
      "metadata": {
        "id": "WiVtO_XtJDnH"
      },
      "execution_count": null,
      "outputs": []
    },
    {
      "cell_type": "markdown",
      "source": [
        "18 - Find all customers whose first name starts with \"a\" and are at least 5 characters in length."
      ],
      "metadata": {
        "id": "5HN9jd6pJEeh"
      }
    },
    {
      "cell_type": "code",
      "source": [
        "SELECT *\n",
        "FROM customer\n",
        "WHERE first_name LIKE 'a%'\n",
        "  AND LENGTH(first_name) >= 5;\n"
      ],
      "metadata": {
        "id": "c10vsu5gJKpc"
      },
      "execution_count": null,
      "outputs": []
    },
    {
      "cell_type": "markdown",
      "source": [
        "19- Find all customers whose first name starts with \"a\" and ends with \"o\"."
      ],
      "metadata": {
        "id": "QDi-IlLPJPS4"
      }
    },
    {
      "cell_type": "code",
      "source": [
        "SELECT *\n",
        "FROM customer\n",
        "WHERE first_name LIKE 'a%o';\n"
      ],
      "metadata": {
        "id": "zjLIC5vzJTzJ"
      },
      "execution_count": null,
      "outputs": []
    },
    {
      "cell_type": "code",
      "source": [],
      "metadata": {
        "id": "CEIPvS4bJzoT"
      },
      "execution_count": null,
      "outputs": []
    },
    {
      "cell_type": "markdown",
      "source": [
        "20 - Get the films with pg and pg-13 rating using IN operator."
      ],
      "metadata": {
        "id": "5joxDc8kJZLr"
      }
    },
    {
      "cell_type": "code",
      "source": [
        "SELECT *\n",
        "FROM film\n",
        "WHERE rating IN ('PG', 'PG-13');\n"
      ],
      "metadata": {
        "id": "JBXDP6nOJddG"
      },
      "execution_count": null,
      "outputs": []
    },
    {
      "cell_type": "markdown",
      "source": [
        "21 - Get the films with length between 50 to 100 using between operator."
      ],
      "metadata": {
        "id": "LuocnEmcJj-H"
      }
    },
    {
      "cell_type": "code",
      "source": [
        "SELECT *\n",
        "FROM film\n",
        "WHERE length BETWEEN 50 AND 100;\n"
      ],
      "metadata": {
        "id": "wSIOcSMMJsPl"
      },
      "execution_count": null,
      "outputs": []
    },
    {
      "cell_type": "markdown",
      "source": [
        "22 - Get the top 50 actors using limit operator."
      ],
      "metadata": {
        "id": "SQqBnQI8JtQl"
      }
    },
    {
      "cell_type": "code",
      "source": [
        "SELECT *\n",
        "FROM actor\n",
        "LIMIT 50;\n"
      ],
      "metadata": {
        "id": "webGoZUgJ166"
      },
      "execution_count": null,
      "outputs": []
    },
    {
      "cell_type": "markdown",
      "source": [
        "23 - Get the distinct film ids from inventory table."
      ],
      "metadata": {
        "id": "uZpuqom2JtUJ"
      }
    },
    {
      "cell_type": "code",
      "source": [
        "SELECT DISTINCT film_id\n",
        "FROM inventory;\n"
      ],
      "metadata": {
        "id": "ZUT6jm7BKCil"
      },
      "execution_count": null,
      "outputs": []
    },
    {
      "cell_type": "markdown",
      "source": [
        "Functions -Basic Aggregate Functions:"
      ],
      "metadata": {
        "id": "0OM1Xf7WKKQp"
      }
    },
    {
      "cell_type": "markdown",
      "source": [
        "1. Retrieve the total number of rentals made in the Sakila database.\n",
        "\n",
        "Hint: Use the COUNT() function."
      ],
      "metadata": {
        "id": "yvmE2SDjKbKR"
      }
    },
    {
      "cell_type": "code",
      "source": [
        "SELECT COUNT(*) AS total_rentals\n",
        "FROM rental;\n"
      ],
      "metadata": {
        "id": "Ai5VnCLUKKjs"
      },
      "execution_count": null,
      "outputs": []
    },
    {
      "cell_type": "markdown",
      "source": [
        "2. Find the average rental duration (in days) of movies rented from the Sakila database.\n",
        "\n",
        "Hint: Utilize the AVG() function"
      ],
      "metadata": {
        "id": "kpEAF5FWKquT"
      }
    },
    {
      "cell_type": "code",
      "source": [
        "SELECT AVG(rental_duration) AS average_rental_duration\n",
        "FROM film;\n"
      ],
      "metadata": {
        "id": "0t-9AqT8LdDu"
      },
      "execution_count": null,
      "outputs": []
    },
    {
      "cell_type": "markdown",
      "source": [
        "String Functions:\n",
        "\n",
        "Question 3:\n",
        "\n",
        "Display the first name and last name of customers in uppercase.\n",
        "\n",
        "Hint: Use the UPPER () function."
      ],
      "metadata": {
        "id": "-0hRZAUYLeHJ"
      }
    },
    {
      "cell_type": "code",
      "source": [
        "SELECT UPPER(first_name) AS first_name_upper,\n",
        "       UPPER(last_name) AS last_name_upper\n",
        "FROM customer;\n"
      ],
      "metadata": {
        "id": "j4-1VFMKLkdB"
      },
      "execution_count": null,
      "outputs": []
    },
    {
      "cell_type": "markdown",
      "source": [
        "Question 4:\n",
        "\n",
        "Extract the month from the rental date and display it alongside the rental ID.\n",
        "\n",
        "Hint: Employ the MONTH() function."
      ],
      "metadata": {
        "id": "thez-n4LLpQz"
      }
    },
    {
      "cell_type": "code",
      "source": [
        "SELECT rental_id,\n",
        "       MONTH(rental_date) AS rental_month\n",
        "FROM rental;\n"
      ],
      "metadata": {
        "id": "UFQ5PO88LtKP"
      },
      "execution_count": null,
      "outputs": []
    },
    {
      "cell_type": "markdown",
      "source": [
        "GROUP BY:\n",
        "\n",
        "\n",
        "Question 5:\n",
        "\n",
        "Retrieve the count of rentals for each customer (display customer ID and the count of rentals).\n",
        "\n",
        "Hint: Use COUNT () in conjunction with GROUP BY."
      ],
      "metadata": {
        "id": "c8psxfY8L1xM"
      }
    },
    {
      "cell_type": "code",
      "source": [
        "SELECT customer_id,\n",
        "       COUNT(*) AS rental_count\n",
        "FROM rental\n",
        "GROUP BY customer_id\n",
        "ORDER BY rental_count DESC;\n"
      ],
      "metadata": {
        "id": "JIGedGLRL_K2"
      },
      "execution_count": null,
      "outputs": []
    },
    {
      "cell_type": "markdown",
      "source": [
        "Question 6:\n",
        "\n",
        "Find the total revenue generated by each store.\n",
        "\n",
        "Hint: Combine SUM() and GROUP BY."
      ],
      "metadata": {
        "id": "Pkcx1TZBMAaf"
      }
    },
    {
      "cell_type": "code",
      "source": [
        "SELECT store_id,\n",
        "       SUM(amount) AS total_revenue\n",
        "FROM payment\n",
        "GROUP BY store_id\n",
        "ORDER BY total_revenue DESC;\n"
      ],
      "metadata": {
        "id": "-CvHa1pRMDb7"
      },
      "execution_count": null,
      "outputs": []
    },
    {
      "cell_type": "markdown",
      "source": [
        "Question 7:\n",
        "\n",
        "Determine the total number of rentals for each category of movies.\n",
        "\n",
        "Hint: JOIN film_category, film, and rental tables, then use cOUNT () and GROUP BY"
      ],
      "metadata": {
        "id": "brEkHGgSMJCb"
      }
    },
    {
      "cell_type": "code",
      "source": [
        "SELECT c.name AS category_name,\n",
        "       COUNT(r.rental_id) AS total_rentals\n",
        "FROM rental r\n",
        "JOIN inventory i ON r.inventory_id = i.inventory_id\n",
        "JOIN film f ON i.film_id = f.film_id\n",
        "JOIN film_category fc ON f.film_id = fc.film_id\n",
        "JOIN category c ON fc.category_id = c.category_id\n",
        "GROUP BY c.name\n",
        "ORDER BY total_rentals DESC;\n"
      ],
      "metadata": {
        "id": "WeCDb6e7MQ22"
      },
      "execution_count": null,
      "outputs": []
    },
    {
      "cell_type": "markdown",
      "source": [
        "Question 8:\n",
        "\n",
        "Find the average rental rate of movies in each language.\n",
        "\n",
        "Hint: JOIN film and language tables, then use AVG () and GROUP BY."
      ],
      "metadata": {
        "id": "4VXgBt1cMSOU"
      }
    },
    {
      "cell_type": "code",
      "source": [
        "SELECT l.name AS language_name,\n",
        "       AVG(f.rental_rate) AS average_rental_rate\n",
        "FROM film f\n",
        "JOIN language l ON f.language_id = l.language_id\n",
        "GROUP BY l.name\n",
        "ORDER BY average_rental_rate DESC;\n"
      ],
      "metadata": {
        "id": "9YbOJZoiMVxE"
      },
      "execution_count": null,
      "outputs": []
    },
    {
      "cell_type": "markdown",
      "source": [
        "Joins\n",
        "Questions 9 -\n",
        "\n",
        "Display the title of the movie, customer s first name, and last name who rented it.\n",
        "\n",
        "Hint: Use JOIN between the film, inventory, rental, and customer tables."
      ],
      "metadata": {
        "id": "DMxRGtB7MeZC"
      }
    },
    {
      "cell_type": "code",
      "source": [
        "SELECT f.title AS movie_title,\n",
        "       c.first_name AS customer_first_name,\n",
        "       c.last_name AS customer_last_name\n",
        "FROM rental r\n",
        "JOIN inventory i ON r.inventory_id = i.inventory_id\n",
        "JOIN film f ON i.film_id = f.film_id\n",
        "JOIN customer c ON r.customer_id = c.customer_id;\n"
      ],
      "metadata": {
        "id": "pMwZ_kiRMoGQ"
      },
      "execution_count": null,
      "outputs": []
    },
    {
      "cell_type": "markdown",
      "source": [
        "Question 10:\n",
        "\n",
        "Retrieve the names of all actors who have appeared in the film \"Gone with the Wind.\"\n",
        "\n",
        "Hint: Use JOIN between the film actor, film, and actor tables."
      ],
      "metadata": {
        "id": "ZYWz53I2MrNt"
      }
    },
    {
      "cell_type": "code",
      "source": [
        "SELECT a.first_name,\n",
        "       a.last_name\n",
        "FROM actor a\n",
        "JOIN film_actor fa ON a.actor_id = fa.actor_id\n",
        "JOIN film f ON fa.film_id = f.film_id\n",
        "WHERE f.title = 'Gone with the Wind';\n"
      ],
      "metadata": {
        "id": "GVfniBwgMzWc"
      },
      "execution_count": null,
      "outputs": []
    },
    {
      "cell_type": "markdown",
      "source": [
        "Question 11:\n",
        "\n",
        "Retrieve the customer names along with the total amount they've spent on rentals.\n",
        "\n",
        "Hint: JOIN customer, payment, and rental tables, then use SUM() and GROUP BY."
      ],
      "metadata": {
        "id": "ZzDBhGLAM0ll"
      }
    },
    {
      "cell_type": "code",
      "source": [
        "SELECT CONCAT(c.first_name, ' ', c.last_name) AS customer_name,\n",
        "       SUM(p.amount) AS total_spent\n",
        "FROM customer c\n",
        "JOIN rental r ON c.customer_id = r.customer_id\n",
        "JOIN payment p ON r.rental_id = p.rental_id\n",
        "GROUP BY c.customer_id, customer_name\n",
        "ORDER BY total_spent DESC;\n"
      ],
      "metadata": {
        "id": "ea9kjLfoM5X_"
      },
      "execution_count": null,
      "outputs": []
    },
    {
      "cell_type": "markdown",
      "source": [
        "Question 12:\n",
        "\n",
        "List the titles of movies rented by each customer in a particular city (e.g., 'London').\n",
        "\n",
        "Hint: JOIN customer, address, city, rental, inventory, and film tables, then use GROUP BY."
      ],
      "metadata": {
        "id": "Mgt9OZd1NEQQ"
      }
    },
    {
      "cell_type": "code",
      "source": [
        "SELECT CONCAT(c.first_name, ' ', c.last_name) AS customer_name,\n",
        "       GROUP_CONCAT(f.title ORDER BY f.title SEPARATOR ', ') AS rented_movies\n",
        "FROM customer c\n",
        "JOIN address a ON c.address_id = a.address_id\n",
        "JOIN city ci ON a.city_id = ci.city_id\n",
        "JOIN rental r ON c.customer_id = r.customer_id\n",
        "JOIN inventory i ON r.inventory_id = i.inventory_id\n",
        "JOIN film f ON i.film_id = f.film_id\n",
        "WHERE ci.city = 'London'\n",
        "GROUP BY c.customer_id, customer_name\n",
        "ORDER BY customer_name;\n"
      ],
      "metadata": {
        "id": "MaRRRxvzNJhG"
      },
      "execution_count": null,
      "outputs": []
    },
    {
      "cell_type": "markdown",
      "source": [
        "Advanced Joins and GROUP BY:\n",
        "\n",
        "Question 13:\n",
        "\n",
        "Display the top 5 rented movies along with the number of times they've been rented.\n",
        "\n",
        "Hint: JOIN film, inventory, and rental tables, then use COUNT () and GROUP BY, and limit the results."
      ],
      "metadata": {
        "id": "mg4-oQJhNRDi"
      }
    },
    {
      "cell_type": "code",
      "source": [
        "SELECT f.title AS movie_title,\n",
        "       COUNT(r.rental_id) AS times_rented\n",
        "FROM film f\n",
        "JOIN inventory i ON f.film_id = i.film_id\n",
        "JOIN rental r ON i.inventory_id = r.inventory_id\n",
        "GROUP BY f.film_id, f.title\n",
        "ORDER BY times_rented DESC\n",
        "LIMIT 5;\n"
      ],
      "metadata": {
        "id": "8g2No5fUNkBV"
      },
      "execution_count": null,
      "outputs": []
    },
    {
      "cell_type": "markdown",
      "source": [
        "Question 14:\n",
        "\n",
        "Determine the customers who have rented movies from both stores (store ID 1 and store ID 2).\n",
        "\n",
        "Hint: Use JOINS with rental, inventory, and customer tables and consider COUNT() and GROUP BY."
      ],
      "metadata": {
        "id": "K5VbbsB-Np7a"
      }
    },
    {
      "cell_type": "code",
      "source": [
        "SELECT c.customer_id,\n",
        "       CONCAT(c.first_name, ' ', c.last_name) AS customer_name\n",
        "FROM customer c\n",
        "JOIN rental r ON c.customer_id = r.customer_id\n",
        "JOIN inventory i ON r.inventory_id = i.inventory_id\n",
        "WHERE i.store_id IN (1, 2)\n",
        "GROUP BY c.customer_id, customer_name\n",
        "HAVING COUNT(DISTINCT i.store_id) = 2;\n"
      ],
      "metadata": {
        "id": "uDsf2R7vNvSw"
      },
      "execution_count": null,
      "outputs": []
    },
    {
      "cell_type": "markdown",
      "source": [
        "Windows Function:"
      ],
      "metadata": {
        "id": "LisexdNEN29B"
      }
    },
    {
      "cell_type": "markdown",
      "source": [
        "1. Rank the customers based on the total amount they've spent on rentals."
      ],
      "metadata": {
        "id": "OcjX3sjqN6Wa"
      }
    },
    {
      "cell_type": "code",
      "source": [
        "SELECT CONCAT(c.first_name, ' ', c.last_name) AS customer_name,\n",
        "       SUM(p.amount) AS total_spent,\n",
        "       RANK() OVER (ORDER BY SUM(p.amount) DESC) AS rank\n",
        "FROM customer c\n",
        "JOIN rental r ON c.customer_id = r.customer_id\n",
        "JOIN payment p ON r.rental_id = p.rental_id\n",
        "GROUP BY c.customer_id, customer_name\n",
        "ORDER BY rank;\n"
      ],
      "metadata": {
        "id": "tGWJE1ikOJEZ"
      },
      "execution_count": null,
      "outputs": []
    },
    {
      "cell_type": "markdown",
      "source": [
        "2. Calculate the cumulative revenue generated by each film over time."
      ],
      "metadata": {
        "id": "N4KnzOPYOOhk"
      }
    },
    {
      "cell_type": "code",
      "source": [
        "SELECT f.title AS film_title,\n",
        "       r.rental_date,\n",
        "       SUM(p.amount) OVER (\n",
        "           PARTITION BY f.film_id\n",
        "           ORDER BY r.rental_date\n",
        "           ROWS BETWEEN UNBOUNDED PRECEDING AND CURRENT ROW\n",
        "       ) AS cumulative_revenue\n",
        "FROM film f\n",
        "JOIN inventory i ON f.film_id = i.film_id\n",
        "JOIN rental r ON i.inventory_id = r.inventory_id\n",
        "JOIN payment p ON r.rental_id = p.rental_id\n",
        "ORDER BY f.title, r.rental_date;\n"
      ],
      "metadata": {
        "id": "EhLNJR6iOTv0"
      },
      "execution_count": null,
      "outputs": []
    },
    {
      "cell_type": "markdown",
      "source": [
        "3. Determine the average rental duration for each film, considering films with similar lengths."
      ],
      "metadata": {
        "id": "Pse80Z_hOXZt"
      }
    },
    {
      "cell_type": "code",
      "source": [
        "SELECT\n",
        "    FLOOR(length / 10) * 10 AS length_range_start,\n",
        "    FLOOR(length / 10) * 10 + 9 AS length_range_end,\n",
        "    COUNT(*) AS num_films,\n",
        "    AVG(rental_duration) AS avg_rental_duration\n",
        "FROM film\n",
        "GROUP BY length_range_start, length_range_end\n",
        "ORDER BY length_range_start;\n"
      ],
      "metadata": {
        "id": "unvOMgrXOeCn"
      },
      "execution_count": null,
      "outputs": []
    },
    {
      "cell_type": "markdown",
      "source": [
        "4. Identify the top 3 films in each category based on their rental counts."
      ],
      "metadata": {
        "id": "Ans-lIZCOhEy"
      }
    },
    {
      "cell_type": "code",
      "source": [
        "SELECT category_name,\n",
        "       film_title,\n",
        "       rental_count\n",
        "FROM (\n",
        "    SELECT c.name AS category_name,\n",
        "           f.title AS film_title,\n",
        "           COUNT(r.rental_id) AS rental_count,\n",
        "           ROW_NUMBER() OVER (\n",
        "               PARTITION BY c.category_id\n",
        "               ORDER BY COUNT(r.rental_id) DESC\n",
        "           ) AS rank_in_category\n",
        "    FROM film f\n",
        "    JOIN film_category fc ON f.film_id = fc.film_id\n",
        "    JOIN category c ON fc.category_id = c.category_id\n",
        "    JOIN inventory i ON f.film_id = i.film_id\n",
        "    JOIN rental r ON i.inventory_id = r.inventory_id\n",
        "    GROUP BY c.category_id, c.name, f.film_id, f.title\n",
        ") AS ranked_films\n",
        "WHERE rank_in_category <= 3\n",
        "ORDER BY category_name, rental_count DESC;\n"
      ],
      "metadata": {
        "id": "AvOUlIcpOrIJ"
      },
      "execution_count": null,
      "outputs": []
    },
    {
      "cell_type": "markdown",
      "source": [
        "5. Calculate the difference in rental counts between each customer's total rentals and the average rentals across all customers."
      ],
      "metadata": {
        "id": "kMtlEDx6OsIs"
      }
    },
    {
      "cell_type": "code",
      "source": [
        "SELECT\n",
        "    c.customer_id,\n",
        "    CONCAT(c.first_name, ' ', c.last_name) AS customer_name,\n",
        "    COUNT(r.rental_id) AS total_rentals,\n",
        "    (COUNT(r.rental_id) - avg_rentals) AS difference_from_average\n",
        "FROM customer c\n",
        "JOIN rental r ON c.customer_id = r.customer_id\n",
        "CROSS JOIN (\n",
        "    SELECT AVG(rental_count) AS avg_rentals\n",
        "    FROM (\n",
        "        SELECT COUNT(rental_id) AS rental_count\n",
        "        FROM rental\n",
        "        GROUP BY customer_id\n",
        "    ) AS sub\n",
        ") AS avg_table\n",
        "GROUP BY c.customer_id, customer_name, avg_rentals\n",
        "ORDER BY difference_from_average DESC;\n"
      ],
      "metadata": {
        "id": "8L-vnSG1Oy_S"
      },
      "execution_count": null,
      "outputs": []
    },
    {
      "cell_type": "markdown",
      "source": [
        "6. Find the monthly revenue trend for the entire rental store over time."
      ],
      "metadata": {
        "id": "wpJ-KxfXO2fX"
      }
    },
    {
      "cell_type": "code",
      "source": [
        "SELECT DATE_FORMAT(payment_date, '%Y-%m') AS month,\n",
        "       SUM(amount) AS total_revenue\n",
        "FROM payment\n",
        "GROUP BY month\n",
        "ORDER BY month;\n"
      ],
      "metadata": {
        "id": "w1ybQWyUO64b"
      },
      "execution_count": null,
      "outputs": []
    },
    {
      "cell_type": "markdown",
      "source": [
        "7. Identify the customers whose total spending on rentals falls within the top 20% of all customers."
      ],
      "metadata": {
        "id": "JIRU_pUcPEJV"
      }
    },
    {
      "cell_type": "code",
      "source": [
        "SELECT customer_id,\n",
        "       CONCAT(first_name, ' ', last_name) AS customer_name,\n",
        "       total_spent\n",
        "FROM (\n",
        "    SELECT c.customer_id,\n",
        "           c.first_name,\n",
        "           c.last_name,\n",
        "           SUM(p.amount) AS total_spent,\n",
        "           NTILE(5) OVER (ORDER BY SUM(p.amount) DESC) AS spending_quintile\n",
        "    FROM customer c\n",
        "    JOIN rental r ON c.customer_id = r.customer_id\n",
        "    JOIN payment p ON r.rental_id = p.rental_id\n",
        "    GROUP BY c.customer_id, c.first_name, c.last_name\n",
        ") AS ranked_customers\n",
        "WHERE spending_quintile = 1\n",
        "ORDER BY total_spent D_\n"
      ],
      "metadata": {
        "id": "ICQbz4CWPITY"
      },
      "execution_count": null,
      "outputs": []
    },
    {
      "cell_type": "markdown",
      "source": [
        "8. Calculate the running total of rentals per category, ordered by rental count."
      ],
      "metadata": {
        "id": "sU95keHgPM2N"
      }
    },
    {
      "cell_type": "code",
      "source": [
        "SELECT category_name,\n",
        "       rental_count,\n",
        "       SUM(rental_count) OVER (ORDER BY rental_count DESC) AS running_total_rentals\n",
        "FROM (\n",
        "    SELECT c.name AS category_name,\n",
        "           COUNT(r.rental_id) AS rental_count\n",
        "    FROM category c\n",
        "    JOIN film_category fc ON c.category_id = fc.category_id\n",
        "    JOIN film f ON fc.film_id = f.film_id\n",
        "    JOIN inventory i ON f.film_id = i.film_id\n",
        "    JOIN rental r ON i.inventory_id = r.inventory_id\n",
        "    GROUP BY c.category_id, c.name\n",
        ") AS category_rentals\n",
        "ORDER BY rental_count DESC;\n"
      ],
      "metadata": {
        "id": "k0z3wKX0PRzk"
      },
      "execution_count": null,
      "outputs": []
    },
    {
      "cell_type": "markdown",
      "source": [
        "9. Find the films that have been rented less than the average rental count for their respective categories."
      ],
      "metadata": {
        "id": "A-Qfd4yPPYsm"
      }
    },
    {
      "cell_type": "code",
      "source": [
        "WITH category_avg AS (\n",
        "    SELECT c.category_id,\n",
        "           AVG(film_rentals.rental_count) AS avg_rentals\n",
        "    FROM category c\n",
        "    JOIN film_category fc ON c.category_id = fc.category_id\n",
        "    JOIN (\n",
        "        SELECT f.film_id, COUNT(r.rental_id) AS rental_count\n",
        "        FROM film f\n",
        "        JOIN inventory i ON f.film_id = i.film_id\n",
        "        JOIN rental r ON i.inventory_id = r.inventory_id\n",
        "        GROUP BY f.film_id\n",
        "    ) AS film_rentals ON fc.film_id = film_rentals.film_id\n",
        "    GROUP BY c.category_id\n",
        ")\n",
        "SELECT f.title AS film_title,\n",
        "       c.name AS category_name,\n",
        "       fr.rental_count\n",
        "FROM (\n",
        "    SELECT f.film_id, f.title, COUNT(r.rental_id) AS rental_count\n",
        "    FROM film f\n",
        "    JOIN inventory i ON f.film_id = i.film_id\n",
        "    JOIN rental r ON i.inventory_id = r.inventory_id\n",
        "    GROUP BY f.film_id, f.title\n",
        ") AS fr\n",
        "JOIN film_category fc ON fr.film_id = fc.film_id\n",
        "JOIN category c ON fc.category_id = c.category_id\n",
        "JOIN category_avg ca ON c.category_id = ca.category_id\n",
        "WHERE fr.rental_count < ca.avg_rentals\n",
        "ORDER BY c.name, fr.rental_count;\n"
      ],
      "metadata": {
        "id": "ZAzflm1OPd7t"
      },
      "execution_count": null,
      "outputs": []
    },
    {
      "cell_type": "markdown",
      "source": [
        "10. Identify the top 5 months with the highest revenue and display the revenue generated in each month"
      ],
      "metadata": {
        "id": "vw-R2IghPiCt"
      }
    },
    {
      "cell_type": "code",
      "source": [
        "SELECT DATE_FORMAT(payment_date, '%Y-%m') AS month,\n",
        "       SUM(amount) AS total_revenue\n",
        "FROM payment\n",
        "GROUP BY month\n",
        "ORDER BY total_revenue DESC\n",
        "LIMIT 5;\n"
      ],
      "metadata": {
        "id": "3Afq8cAVPnAz"
      },
      "execution_count": null,
      "outputs": []
    }
  ]
}